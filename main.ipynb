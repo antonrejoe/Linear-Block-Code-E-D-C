{
 "cells": [
  {
   "cell_type": "markdown",
   "metadata": {},
   "source": [
    "<div style=\"text-align: center;\">\n",
    "  <h3>Assignment 2</h3>\n",
    "  <h3>19ECE312</h3>\n",
    "</div>\n",
    "\n",
    "<div style=\"text-align: right; \">\n",
    "<p>Anton Rejoe P</p>\n",
    "<p>CB.EN.U4ECE22009</p>\n",
    "<p>Deadline: 25 March 2025</p>\n",
    "</div>\n"
   ]
  },
  {
   "cell_type": "code",
   "execution_count": 2,
   "metadata": {},
   "outputs": [],
   "source": [
    "import numpy as np\n",
    "import seaborn as sns\n",
    "import matplotlib.pyplot as plt"
   ]
  },
  {
   "cell_type": "markdown",
   "metadata": {},
   "source": [
    "# Generate Info\n"
   ]
  },
  {
   "cell_type": "code",
   "execution_count": 3,
   "metadata": {},
   "outputs": [
    {
     "data": {
      "text/plain": [
       "array([[1, 0, 1, 0],\n",
       "       [0, 0, 1, 1],\n",
       "       [1, 1, 0, 1],\n",
       "       ...,\n",
       "       [1, 0, 0, 1],\n",
       "       [1, 0, 0, 1],\n",
       "       [1, 0, 0, 0]], shape=(2500, 4))"
      ]
     },
     "execution_count": 3,
     "metadata": {},
     "output_type": "execute_result"
    }
   ],
   "source": [
    "# Create an array with 500 zeros and 500 ones\n",
    "array_size = 10000\n",
    "half_size = array_size // 2\n",
    "\n",
    "# Create the array\n",
    "info = np.array([0] * half_size + [1] * half_size)\n",
    "\n",
    "# Shuffle the array to randomize the order\n",
    "np.random.shuffle(info)\n",
    "\n",
    "\n",
    "info = np.resize(info ,( array_size//4, 4))\n",
    "info"
   ]
  },
  {
   "cell_type": "markdown",
   "metadata": {},
   "source": [
    "# Create Generator Matrix\n"
   ]
  },
  {
   "cell_type": "code",
   "execution_count": 4,
   "metadata": {},
   "outputs": [],
   "source": [
    "import numpy as np\n",
    "\n",
    "def create_generator_matrix(k, n,info, hamming=True):\n",
    "    \"\"\"\n",
    "    Create a generator matrix for a (n, k) Hamming code using the provided info array.\n",
    "    \n",
    "    Args:\n",
    "    k (int): Number of information bits (for Hamming code, k = 4).\n",
    "    n (int): Total number of bits in the codeword (for Hamming code, n = 7).\n",
    "    info (np.ndarray): Array of information vectors.\n",
    "    \n",
    "    Returns:\n",
    "    np.ndarray: Generator matrix G.\n",
    "    np.ndarray: Parity matrix P.\n",
    "    \"\"\"\n",
    "\n",
    "    if hamming:\n",
    "        I_k = np.eye(k, dtype=int)\n",
    "        P = np.array([\n",
    "            [1, 1, 0],  # d1 contributes to p1 and p2\n",
    "            [1, 0, 1],  # d2 contributes to p1 and p3\n",
    "            [0, 1, 1],  # d3 contributes to p2 and p3\n",
    "            [1, 1, 1]   # d4 contributes to all parity bits\n",
    "        ], dtype=int)\n",
    "\n",
    "        # Concatenate I_k and P to form the generator matrix G\n",
    "        G = np.concatenate((I_k, P), axis=1)\n",
    "        return G, P\n",
    "    else:\n",
    "        # Create the identity matrix I_k\n",
    "        I_k = np.eye(k, dtype=int)\n",
    "        \n",
    "        # Initialize the parity matrix P\n",
    "        P = np.zeros((k, n - k), dtype=int)\n",
    "\n",
    "        # Compute parity bits based on the info array\n",
    "        for row_idx in range(k):\n",
    "            # Get the corresponding information vector from the info array\n",
    "            i = info[row_idx]  # This is a row vector corresponding to data bits\n",
    "            \n",
    "            # Calculate parity bits using Hamming code equations\n",
    "            p0 = (i[0] + i[1] + i[3]) % 2  # p1 = d1 + d2 + d4 mod 2\n",
    "            p1 = (i[0] + i[2] + i[3]) % 2  # p2 = d1 + d3 + d4 mod 2\n",
    "            p2 = (i[1] + i[2] + i[3]) % 2  # p3 = d2 + d3 + d4 mod 2\n",
    "            \n",
    "            # Assign the computed parity bits to the corresponding row in P\n",
    "            P[row_idx] = [p0, p1, p2]\n",
    "\n",
    "        # Concatenate I_k and P to form the generator matrix G\n",
    "        G = np.concatenate((I_k, P), axis=1)\n",
    "        \n",
    "        return G, P"
   ]
  },
  {
   "cell_type": "code",
   "execution_count": 5,
   "metadata": {},
   "outputs": [
    {
     "name": "stdout",
     "output_type": "stream",
     "text": [
      "Generator Matrix G:\n",
      "[[1 0 0 0 1 1 0]\n",
      " [0 1 0 0 1 0 1]\n",
      " [0 0 1 0 0 1 1]\n",
      " [0 0 0 1 1 1 1]]\n",
      "(4, 7)\n"
     ]
    }
   ],
   "source": [
    "# Example usage\n",
    "k = 4  # Number of information bits\n",
    "n = 7  # Total number of bits in the codeword\n",
    "G,P = create_generator_matrix(k, n, info, hamming=True)\n",
    "print(\"Generator Matrix G:\")\n",
    "print(G)\n",
    "print(G.shape)"
   ]
  },
  {
   "cell_type": "markdown",
   "metadata": {},
   "source": [
    "# Encode message\n"
   ]
  },
  {
   "cell_type": "code",
   "execution_count": 6,
   "metadata": {},
   "outputs": [],
   "source": [
    "def encode_message(message, G):\n",
    "    codeword = np.dot(message, G) % 2  # Modulo 2 for binary code\n",
    "    return codeword"
   ]
  },
  {
   "cell_type": "code",
   "execution_count": 7,
   "metadata": {},
   "outputs": [
    {
     "data": {
      "text/plain": [
       "array([[1, 0, 1, ..., 1, 0, 1],\n",
       "       [0, 0, 1, ..., 1, 0, 0],\n",
       "       [1, 1, 0, ..., 1, 0, 0],\n",
       "       ...,\n",
       "       [1, 0, 0, ..., 0, 0, 1],\n",
       "       [1, 0, 0, ..., 0, 0, 1],\n",
       "       [1, 0, 0, ..., 1, 1, 0]], shape=(2500, 7))"
      ]
     },
     "metadata": {},
     "output_type": "display_data"
    }
   ],
   "source": [
    "encoded_msg = encode_message(info,G)\n",
    "display(encoded_msg)"
   ]
  },
  {
   "cell_type": "markdown",
   "metadata": {},
   "source": [
    "# Modulate message\n"
   ]
  },
  {
   "cell_type": "code",
   "execution_count": 8,
   "metadata": {},
   "outputs": [
    {
     "data": {
      "text/plain": [
       "array([[-1,  1, -1, ..., -1,  1, -1],\n",
       "       [ 1,  1, -1, ..., -1,  1,  1],\n",
       "       [-1, -1,  1, ..., -1,  1,  1],\n",
       "       ...,\n",
       "       [-1,  1,  1, ...,  1,  1, -1],\n",
       "       [-1,  1,  1, ...,  1,  1, -1],\n",
       "       [-1,  1,  1, ..., -1, -1,  1]], shape=(2500, 7))"
      ]
     },
     "metadata": {},
     "output_type": "display_data"
    }
   ],
   "source": [
    "def modulation(encoded_msg):\n",
    "    code_word = np.array([ (1-2*i) for i in encoded_msg ])\n",
    "    return code_word\n",
    "\n",
    "code_word = modulation(encoded_msg)\n",
    "display(code_word)"
   ]
  },
  {
   "cell_type": "markdown",
   "metadata": {},
   "source": [
    "# Add AWGN\n"
   ]
  },
  {
   "cell_type": "code",
   "execution_count": 9,
   "metadata": {},
   "outputs": [
    {
     "name": "stdout",
     "output_type": "stream",
     "text": [
      "Noisy Codewords:\n",
      "[[-7.46096254e-01  1.22916159e+00 -7.01264144e-01 ... -5.95643526e-01\n",
      "   8.18656233e-01 -8.44819853e-01]\n",
      " [ 1.22435759e+00  5.12796679e-01 -3.83423096e-01 ... -7.22016514e-01\n",
      "   9.50873585e-01  2.33320121e+00]\n",
      " [-1.28610299e+00 -1.08193479e+00  1.45693277e+00 ... -1.55607946e+00\n",
      "  -8.15773335e-01  3.51624316e-01]\n",
      " ...\n",
      " [-5.85833239e-01  7.61816456e-01  1.12518150e+00 ...  1.71929822e+00\n",
      "   7.53290297e-01 -1.27965177e+00]\n",
      " [-2.53151101e-01  8.19080771e-01  9.75864274e-01 ...  2.47494813e-01\n",
      "   2.11362871e+00 -1.79735971e+00]\n",
      " [-1.09361849e+00  1.05732007e+00  5.02222912e-01 ... -1.63359033e+00\n",
      "  -6.72964488e-01 -1.20239893e-05]]\n"
     ]
    }
   ],
   "source": [
    "import numpy as np\n",
    "\n",
    "# Function to add AWGN\n",
    "def add_awgn(code_words, eb_n0_db):\n",
    "    # Convert Eb/N0 from dB to linear scale\n",
    "    eb_n0 = 10 ** (eb_n0_db / 10)\n",
    "    \n",
    "    # Calculate the energy per bit (Eb)\n",
    "    # Assuming each codeword is a row vector\n",
    "    eb = np.mean(np.square(code_words))  # Average energy of the codeword\n",
    "    \n",
    "    # Calculate noise variance (N0/2)\n",
    "    n0 = eb / eb_n0  # N0 = Eb / (Eb/N0)\n",
    "    \n",
    "    # Generate AWGN noise\n",
    "    noise = np.random.normal(0, np.sqrt(n0), code_words.shape)  # Mean=0, StdDev=sqrt(N0/2)\n",
    "    \n",
    "    # Add noise to codewords\n",
    "    noisy_codewords = code_words + noise\n",
    "    \n",
    "    return noisy_codewords\n",
    "\n",
    "\n",
    "# Desired Eb/N0 in dB\n",
    "eb_n0_db = 5\n",
    "\n",
    "# Add AWGN to the code words\n",
    "noisy_codewords = add_awgn(code_word.copy(), eb_n0_db)\n",
    "\n",
    "print(\"Noisy Codewords:\")\n",
    "print(noisy_codewords)\n"
   ]
  },
  {
   "cell_type": "markdown",
   "metadata": {},
   "source": [
    "# Recieve message\n"
   ]
  },
  {
   "cell_type": "code",
   "execution_count": 10,
   "metadata": {},
   "outputs": [
    {
     "data": {
      "text/plain": [
       "array([[-1,  1, -1, ..., -1,  1, -1],\n",
       "       [ 1,  1, -1, ..., -1,  1,  1],\n",
       "       [-1, -1,  1, ..., -1, -1,  1],\n",
       "       ...,\n",
       "       [-1,  1,  1, ...,  1,  1, -1],\n",
       "       [-1,  1,  1, ...,  1,  1, -1],\n",
       "       [-1,  1,  1, ..., -1, -1, -1]], shape=(2500, 7))"
      ]
     },
     "execution_count": 10,
     "metadata": {},
     "output_type": "execute_result"
    }
   ],
   "source": [
    "def detect_message(noisy_codeword):\n",
    "    Threshold = 0\n",
    "    return np.where(noisy_codeword < 0, -1, 1)\n",
    "    \n",
    "detected_msg = np.array([detect_message(i) for i in noisy_codewords])\n",
    "\n",
    "detected_msg"
   ]
  },
  {
   "cell_type": "markdown",
   "metadata": {},
   "source": [
    "# Decode message\n"
   ]
  },
  {
   "cell_type": "code",
   "execution_count": 11,
   "metadata": {},
   "outputs": [],
   "source": [
    "def decode_msg(msg):\n",
    "    return np.where(msg == 1 , 0, 1 )"
   ]
  },
  {
   "cell_type": "code",
   "execution_count": 12,
   "metadata": {},
   "outputs": [
    {
     "name": "stdout",
     "output_type": "stream",
     "text": [
      "[[1. 0. 1. ... 1. 0. 1.]\n",
      " [0. 0. 1. ... 1. 0. 0.]\n",
      " [1. 1. 0. ... 1. 1. 0.]\n",
      " ...\n",
      " [1. 0. 0. ... 0. 0. 1.]\n",
      " [1. 0. 0. ... 0. 0. 1.]\n",
      " [1. 0. 0. ... 1. 1. 1.]]\n"
     ]
    }
   ],
   "source": [
    "def decode_msg_all(detected_msg):\n",
    "    decoded_msg = np.zeros(detected_msg.shape)\n",
    "\n",
    "    for i in range(len(detected_msg)):\n",
    "        decoded_msg[i] = np.array([decode_msg(j) for j in detected_msg[i]])\n",
    "    \n",
    "    return decoded_msg\n",
    "\n",
    "decoded_msg = decode_msg_all(detected_msg)\n",
    "print(decoded_msg)"
   ]
  },
  {
   "cell_type": "markdown",
   "metadata": {},
   "source": [
    "# Generate Parity check Matrix\n"
   ]
  },
  {
   "cell_type": "code",
   "execution_count": 13,
   "metadata": {},
   "outputs": [
    {
     "data": {
      "text/plain": [
       "(7, 3)"
      ]
     },
     "execution_count": 13,
     "metadata": {},
     "output_type": "execute_result"
    }
   ],
   "source": [
    "## syndrome calculation\n",
    "## H^T to be calculated\n",
    "\n",
    "def parity_check_matrix_H(P):\n",
    "    parity_matrix = P.copy()\n",
    "    identity_matrix = np.eye(parity_matrix.shape[1], dtype=int)\n",
    "    H_T = np.concatenate((parity_matrix, identity_matrix), axis=0)\n",
    "    return H_T.astype(int)\n",
    "\n",
    "H_T = parity_check_matrix_H(P)\n",
    "\n",
    "H_T.shape\n",
    "# G_shuffled.shape"
   ]
  },
  {
   "cell_type": "markdown",
   "metadata": {},
   "source": [
    "## Verify the Relationship $G⋅H^{T} = 0$\n"
   ]
  },
  {
   "cell_type": "code",
   "execution_count": 14,
   "metadata": {},
   "outputs": [
    {
     "data": {
      "text/plain": [
       "np.True_"
      ]
     },
     "execution_count": 14,
     "metadata": {},
     "output_type": "execute_result"
    }
   ],
   "source": [
    "np.all((G @ H_T) % 2 == 0)  # Should return True"
   ]
  },
  {
   "cell_type": "markdown",
   "metadata": {},
   "source": [
    "# Calculate Syndrome\n"
   ]
  },
  {
   "cell_type": "code",
   "execution_count": 15,
   "metadata": {},
   "outputs": [
    {
     "data": {
      "text/plain": [
       "array([[0, 0, 0],\n",
       "       [0, 0, 0],\n",
       "       [0, 1, 0],\n",
       "       ...,\n",
       "       [0, 0, 0],\n",
       "       [0, 0, 0],\n",
       "       [0, 0, 1]], shape=(2500, 3))"
      ]
     },
     "execution_count": 15,
     "metadata": {},
     "output_type": "execute_result"
    }
   ],
   "source": [
    "S = np.dot(decoded_msg, H_T) % 2\n",
    "S = np.array(S, dtype=int)\n",
    "S"
   ]
  },
  {
   "cell_type": "code",
   "execution_count": 16,
   "metadata": {},
   "outputs": [],
   "source": [
    "def calculate_error(S):\n",
    "    No_of_errors = 0\n",
    "    for syndrome_vector in S:\n",
    "        if np.any(syndrome_vector == 1):\n",
    "            No_of_errors += 1\n",
    "    return No_of_errors"
   ]
  },
  {
   "cell_type": "markdown",
   "metadata": {},
   "source": [
    "# Calculate Number of Errors\n"
   ]
  },
  {
   "cell_type": "code",
   "execution_count": 17,
   "metadata": {},
   "outputs": [
    {
     "data": {
      "text/plain": [
       "615"
      ]
     },
     "execution_count": 17,
     "metadata": {},
     "output_type": "execute_result"
    }
   ],
   "source": [
    "# code_word.shape, decoded_msg.shape\n",
    "num_errors = calculate_error(S)\n",
    "num_errors"
   ]
  },
  {
   "cell_type": "code",
   "execution_count": 18,
   "metadata": {},
   "outputs": [
    {
     "data": {
      "text/plain": [
       "0.03514285714285714"
      ]
     },
     "execution_count": 18,
     "metadata": {},
     "output_type": "execute_result"
    }
   ],
   "source": [
    "code_word.shape\n",
    "error_per = num_errors/(code_word.shape[0]*code_word.shape[1])  \n",
    "error_per"
   ]
  },
  {
   "cell_type": "markdown",
   "metadata": {},
   "source": [
    "# Calculate Bit Error rate (BER)\n"
   ]
  },
  {
   "cell_type": "markdown",
   "metadata": {},
   "source": [
    "## Without Error Correction\n"
   ]
  },
  {
   "cell_type": "code",
   "execution_count": 19,
   "metadata": {},
   "outputs": [],
   "source": [
    "def perform_(info):\n",
    "    Eb_n0 = np.arange(0, 11)\n",
    "    Errors = np.zeros(Eb_n0.shape)\n",
    "\n",
    "    G, P = create_generator_matrix(4, 7, info)\n",
    "    G_s  = G\n",
    "    codeword = encode_message(info, G_s)\n",
    "    modulated = modulation(codeword)\n",
    "\n",
    "    for i in range(len(Eb_n0)):\n",
    "        modulated_noise = add_awgn(modulated, Eb_n0[i]) \n",
    "        noisy_codeword  = detect_message(modulated_noise)\n",
    "        decoded_msg     = decode_msg_all(noisy_codeword)\n",
    "        H_T             = parity_check_matrix_H(P)\n",
    "        Syndromes       = np.dot(decoded_msg, H_T) % 2\n",
    "        Syndromes       = np.array(Syndromes, dtype=int)\n",
    "        num_errors      = calculate_error(Syndromes)\n",
    "        error_per       =  (num_errors/(code_word.shape[0]*code_word.shape[1])) \n",
    "        Errors[i] = error_per\n",
    "        print(error_per)\n",
    "\n",
    "    return Errors, Eb_n0"
   ]
  },
  {
   "cell_type": "code",
   "execution_count": 20,
   "metadata": {},
   "outputs": [
    {
     "name": "stdout",
     "output_type": "stream",
     "text": [
      "0.0976\n",
      "0.08771428571428572\n",
      "0.07451428571428571\n",
      "0.0656\n",
      "0.04782857142857143\n",
      "0.0348\n",
      "0.0228\n",
      "0.011485714285714285\n",
      "0.005828571428571429\n",
      "0.0029714285714285715\n",
      "0.0006285714285714285\n"
     ]
    },
    {
     "data": {
      "image/png": "[encoded data removed]",
      "text/plain": [
       "<Figure size 1000x600 with 1 Axes>"
      ]
     },
     "metadata": {},
     "output_type": "display_data"
    }
   ],
   "source": [
    "import pandas as pd\n",
    "import seaborn as sns\n",
    "import matplotlib.pyplot as plt\n",
    "\n",
    "# Assuming perform_() returns two lists or arrays\n",
    "Errors, Eb_n0 = perform_(info)\n",
    "\n",
    "# Create DataFrame\n",
    "data = {'Eb/N0 (dB)': Eb_n0, 'Error Percentage': Errors}\n",
    "df = pd.DataFrame(data)\n",
    "\n",
    "# Create the plot using Seaborn\n",
    "plt.figure(figsize=(10, 6))  # Adjust figure size as needed\n",
    "sns.set_theme(style=\"darkgrid\")  # Set the plot style\n",
    "\n",
    "sns.lineplot(x='Eb/N0 (dB)', y='Error Percentage', data=df, marker='o', color='r')  # Add markers for clarity\n",
    "\n",
    "plt.xlabel('Eb/N0 (dB)')\n",
    "plt.ylabel('Error Percentage')\n",
    "plt.title('Error Percentage vs. Eb/N0')\n",
    "\n",
    "plt.yscale('log')  # Set y-axis to log scale\n",
    "\n",
    "plt.grid(True, which='both', linestyle='--', linewidth=0.5)  # Show both major and minor grid lines\n",
    "plt.tight_layout()  # Adjust layout to prevent labels from overlapping\n",
    "plt.show()\n"
   ]
  },
  {
   "cell_type": "markdown",
   "metadata": {},
   "source": [
    "## Error correction\n"
   ]
  },
  {
   "cell_type": "code",
   "execution_count": 21,
   "metadata": {},
   "outputs": [],
   "source": [
    "def perform_EC(decoded_msg, S, H_T):\n",
    "    corrected_msg = np.array(decoded_msg, dtype=int)  # Ensure integer type\n",
    "    for i in range(corrected_msg.shape[0]):\n",
    "        syndrome = S[i]\n",
    "        error_pos = None\n",
    "        # Check each column in H_T to find a match with the syndrome\n",
    "        for j in range(H_T.shape[1]):\n",
    "            if np.array_equal(H_T[:, j], syndrome):\n",
    "                error_pos = j\n",
    "                break\n",
    "        if error_pos is not None and error_pos < corrected_msg.shape[1]:\n",
    "            corrected_msg[i, error_pos] ^= 1  # Flip the bit at the error position\n",
    "    return corrected_msg\n",
    "\n"
   ]
  },
  {
   "cell_type": "code",
   "execution_count": 22,
   "metadata": {},
   "outputs": [],
   "source": [
    "corrected_msg = perform_EC(decoded_msg, S, H_T)"
   ]
  },
  {
   "cell_type": "markdown",
   "metadata": {},
   "source": [
    "## With Error Correction\n"
   ]
  },
  {
   "cell_type": "code",
   "execution_count": 23,
   "metadata": {},
   "outputs": [],
   "source": [
    "def perform_after_ec(info):\n",
    "    Eb_n0 = np.arange(0, 11)  # Eb/N0 values from 0 to 10 dB\n",
    "    Errors = np.zeros(Eb_n0.shape)\n",
    "\n",
    "    # Create generator matrix and parity-check matrix\n",
    "    G, P = create_generator_matrix(4, 7, info)\n",
    "    G_s = G\n",
    "    codeword = encode_message(info, G_s)\n",
    "    modulated = modulation(codeword)\n",
    "    H_T = parity_check_matrix_H(P)  # Compute H_T once here\n",
    "\n",
    "    for i in range(len(Eb_n0)):\n",
    "        # Add AWGN noise to the modulated signal\n",
    "        modulated_noise = add_awgn(modulated, Eb_n0[i]) \n",
    "        \n",
    "        # Detect the message from the noisy signal\n",
    "        noisy_codeword = detect_message(modulated_noise)\n",
    "        \n",
    "        # Decode the received codeword\n",
    "        decoded_msg = decode_msg_all(noisy_codeword)\n",
    "        \n",
    "        # Calculate syndromes for the decoded message\n",
    "        Syndromes = np.dot(decoded_msg, H_T) % 2\n",
    "        Syndromes = np.array(Syndromes, dtype=int)\n",
    "        \n",
    "        # Perform error correction using the syndromes and H_T\n",
    "        corrected_msg = perform_EC(decoded_msg, Syndromes, H_T)\n",
    "\n",
    "        # Calculate syndromes for the corrected message\n",
    "        Syndromes_crt = np.dot(corrected_msg, H_T) % 2\n",
    "        Syndromes_crt = np.array(Syndromes_crt, dtype=int)\n",
    "        \n",
    "        # Count the number of errors in the corrected message\n",
    "        num_errors = calculate_error(Syndromes_crt)\n",
    "        \n",
    "        # Calculate the error probability\n",
    "        error_per = num_errors / (codeword.shape[0] * codeword.shape[1]) \n",
    "        Errors[i] = error_per\n",
    "        \n",
    "        print(f\"Eb/N0: {Eb_n0[i]} dB, Error Probability: {error_per}\")\n",
    "\n",
    "    return Errors, Eb_n0"
   ]
  },
  {
   "cell_type": "markdown",
   "metadata": {},
   "source": [
    "## Plotting after Error Correction\n"
   ]
  },
  {
   "cell_type": "code",
   "execution_count": 24,
   "metadata": {},
   "outputs": [
    {
     "name": "stdout",
     "output_type": "stream",
     "text": [
      "Eb/N0: 0 dB, Error Probability: 0.09731428571428571\n",
      "Eb/N0: 1 dB, Error Probability: 0.088\n",
      "Eb/N0: 2 dB, Error Probability: 0.07325714285714285\n",
      "Eb/N0: 3 dB, Error Probability: 0.06142857142857143\n",
      "Eb/N0: 4 dB, Error Probability: 0.045714285714285714\n",
      "Eb/N0: 5 dB, Error Probability: 0.03371428571428572\n",
      "Eb/N0: 6 dB, Error Probability: 0.021085714285714284\n",
      "Eb/N0: 7 dB, Error Probability: 0.011942857142857142\n",
      "Eb/N0: 8 dB, Error Probability: 0.0054285714285714284\n",
      "Eb/N0: 9 dB, Error Probability: 0.0018857142857142857\n",
      "Eb/N0: 10 dB, Error Probability: 0.0008571428571428571\n"
     ]
    },
    {
     "data": {
      "image/png": "[encoded data removed]",
      "text/plain": [
       "<Figure size 1000x600 with 1 Axes>"
      ]
     },
     "metadata": {},
     "output_type": "display_data"
    }
   ],
   "source": [
    "import pandas as pd\n",
    "import seaborn as sns\n",
    "import matplotlib.pyplot as plt\n",
    "\n",
    "# Assuming perform_() returns two lists or arrays\n",
    "Errors_ec, Eb_n0 = perform_after_ec(info)\n",
    "\n",
    "# Create DataFrame\n",
    "data = {'Eb/N0 (dB)': Eb_n0, 'Error Percentage': Errors_ec}\n",
    "df = pd.DataFrame(data)\n",
    "\n",
    "# Create the plot using Seaborn\n",
    "plt.figure(figsize=(10, 6))  # Adjust figure size as needed\n",
    "sns.set_theme(style=\"darkgrid\")  # Set the plot style\n",
    "\n",
    "sns.lineplot(x='Eb/N0 (dB)', y='Error Percentage', data=df, marker='o', color='r')  # Add markers for clarity\n",
    "\n",
    "plt.xlabel('Eb/N0 (dB)')\n",
    "plt.ylabel('Error Percentage')\n",
    "plt.title('Error Percentage vs. Eb/N0 after EC')\n",
    "\n",
    "plt.yscale('log')  # Set y-axis to log scale\n",
    "\n",
    "plt.grid(True, which='both', linestyle='--', linewidth=0.5)  # Show both major and minor grid lines\n",
    "plt.tight_layout()  # Adjust layout to prevent labels from overlapping\n",
    "plt.show()\n"
   ]
  },
  {
   "cell_type": "markdown",
   "metadata": {},
   "source": [
    "# Comparsion\n"
   ]
  },
  {
   "cell_type": "markdown",
   "metadata": {},
   "source": [
    "**Before Error Correction**\n",
    "\n",
    "| Eb/N0 (dB) | Error Probability     |\n",
    "| ---------- | --------------------- |\n",
    "| 0          | 0.09731428571428571   |\n",
    "| 1          | 0.088                 |\n",
    "| 2          | 0.07325714285714285   |\n",
    "| 3          | 0.06142857142857143   |\n",
    "| 4          | 0.045714285714285714  |\n",
    "| 5          | 0.03371428571428572   |\n",
    "| 6          | 0.021085714285714284  |\n",
    "| 7          | 0.011942857142857142  |\n",
    "| 8          | 0.0054285714285714284 |\n",
    "| 9          | 0.0018857142857142857 |\n",
    "| 10         | 0.0008571428571428571 |\n",
    "\n",
    "**After Error Correction**\n",
    "\n",
    "| Eb/N0 (dB) | Error Probability     |\n",
    "| ---------- | --------------------- |\n",
    "| 0          | 0.0976                |\n",
    "| 1          | 0.08771428571428572   |\n",
    "| 2          | 0.07451428571428571   |\n",
    "| 3          | 0.0656                |\n",
    "| 4          | 0.04782857142857143   |\n",
    "| 5          | 0.0348                |\n",
    "| 6          | 0.0228                |\n",
    "| 7          | 0.011485714285714285  |\n",
    "| 8          | 0.005828571428571429  |\n",
    "| 9          | 0.0029714285714285715 |\n",
    "| 10         | 0.0006285714285714285 |\n"
   ]
  }
 ],
 "metadata": {
  "kernelspec": {
   "display_name": "Python 3 (ipykernel)",
   "language": "python",
   "name": "python3"
  },
  "language_info": {
   "codemirror_mode": {
    "name": "ipython",
    "version": 3
   },
   "file_extension": ".py",
   "mimetype": "text/x-python",
   "name": "python",
   "nbconvert_exporter": "python",
   "pygments_lexer": "ipython3",
   "version": "3.10.15"
  }
 },
 "nbformat": 4,
 "nbformat_minor": 4
}
